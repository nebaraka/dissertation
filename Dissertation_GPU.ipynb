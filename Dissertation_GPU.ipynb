{
  "nbformat": 4,
  "nbformat_minor": 0,
  "metadata": {
    "colab": {
      "name": "Dissertation_GPU.ipynb",
      "provenance": [],
      "collapsed_sections": [],
      "mount_file_id": "1a-NHObJEOUkeYao0TBvd9d94LB98sJEM",
      "authorship_tag": "ABX9TyMYIlQ3iRgQVNRn8ohU2UG/",
      "include_colab_link": true
    },
    "kernelspec": {
      "name": "python3",
      "display_name": "Python 3"
    },
    "accelerator": "GPU"
  },
  "cells": [
    {
      "cell_type": "markdown",
      "metadata": {
        "id": "view-in-github",
        "colab_type": "text"
      },
      "source": [
        "<a href=\"https://colab.research.google.com/github/nebaraka/dissertation/blob/main/Dissertation_GPU.ipynb\" target=\"_parent\"><img src=\"https://colab.research.google.com/assets/colab-badge.svg\" alt=\"Open In Colab\"/></a>"
      ]
    },
    {
      "cell_type": "code",
      "metadata": {
        "colab": {
          "base_uri": "https://localhost:8080/",
          "height": 36
        },
        "id": "onrFyUJnL4TN",
        "outputId": "c33b66c4-4454-4911-f93f-1a5e087d6681"
      },
      "source": [
        "import tensorflow as tf\r\n",
        "tf.test.gpu_device_name()"
      ],
      "execution_count": 1,
      "outputs": [
        {
          "output_type": "execute_result",
          "data": {
            "application/vnd.google.colaboratory.intrinsic+json": {
              "type": "string"
            },
            "text/plain": [
              "'/device:GPU:0'"
            ]
          },
          "metadata": {
            "tags": []
          },
          "execution_count": 1
        }
      ]
    },
    {
      "cell_type": "code",
      "metadata": {
        "id": "KCL1E0FhLxw7"
      },
      "source": [
        "import tensorflow_hub as hub"
      ],
      "execution_count": 2,
      "outputs": []
    },
    {
      "cell_type": "code",
      "metadata": {
        "id": "hi-CHR8wMvgA"
      },
      "source": [
        "import os"
      ],
      "execution_count": 3,
      "outputs": []
    },
    {
      "cell_type": "code",
      "metadata": {
        "id": "rHC4aTszNYsm"
      },
      "source": [
        "import zipfile"
      ],
      "execution_count": 4,
      "outputs": []
    },
    {
      "cell_type": "code",
      "metadata": {
        "id": "glA8j1ECSEaX"
      },
      "source": [
        "import re"
      ],
      "execution_count": 5,
      "outputs": []
    },
    {
      "cell_type": "code",
      "metadata": {
        "id": "6PKHUpAMTQTW"
      },
      "source": [
        "from skimage.transform import rescale, resize"
      ],
      "execution_count": 6,
      "outputs": []
    },
    {
      "cell_type": "code",
      "metadata": {
        "id": "8uPMAK7iWqJg"
      },
      "source": [
        "import numpy as np\r\n",
        "import pandas as pd"
      ],
      "execution_count": 7,
      "outputs": []
    },
    {
      "cell_type": "code",
      "metadata": {
        "id": "hMQz3lpRXb0o"
      },
      "source": [
        "from keras.layers import Dense, Input, Conv2D, MaxPooling2D, UpSampling2D\r\n",
        "from keras import Sequential\r\n",
        "from keras.callbacks import TensorBoard\r\n",
        "import sklearn\r\n",
        "from sklearn.model_selection import train_test_split\r\n",
        "import matplotlib.pyplot as plt\r\n",
        "import matplotlib"
      ],
      "execution_count": 8,
      "outputs": []
    },
    {
      "cell_type": "code",
      "metadata": {
        "id": "2ZZphzc0rKlO"
      },
      "source": [
        "from keras.layers import Reshape"
      ],
      "execution_count": 87,
      "outputs": []
    },
    {
      "cell_type": "code",
      "metadata": {
        "id": "SgdrnofFgFag"
      },
      "source": [
        "import IPython.display as display"
      ],
      "execution_count": 26,
      "outputs": []
    },
    {
      "cell_type": "code",
      "metadata": {
        "id": "3lbiD5gpx4el"
      },
      "source": [
        "import datetime"
      ],
      "execution_count": 110,
      "outputs": []
    },
    {
      "cell_type": "code",
      "metadata": {
        "id": "6TAtyD5qNWBO"
      },
      "source": [
        "# with zipfile.ZipFile('drive/MyDrive/In-shop Clothes Retrieval Benchmark/Img/img.zip', 'r') as zip_ref:\r\n",
        "#      zip_ref.extractall('img')"
      ],
      "execution_count": 9,
      "outputs": []
    },
    {
      "cell_type": "code",
      "metadata": {
        "id": "sgDTT41bR7hE"
      },
      "source": [
        "PATH = 'img/img/WOMEN/'"
      ],
      "execution_count": 10,
      "outputs": []
    },
    {
      "cell_type": "code",
      "metadata": {
        "id": "rBF2YZr1d5q1"
      },
      "source": [
        "labels = os.listdir(PATH)"
      ],
      "execution_count": 14,
      "outputs": []
    },
    {
      "cell_type": "code",
      "metadata": {
        "id": "GY2JTTereDy3"
      },
      "source": [
        "a = np.zeros(len(labels))"
      ],
      "execution_count": 19,
      "outputs": []
    },
    {
      "cell_type": "code",
      "metadata": {
        "id": "IkvyUkjveMLo"
      },
      "source": [
        "l_to_n = {}"
      ],
      "execution_count": 16,
      "outputs": []
    },
    {
      "cell_type": "code",
      "metadata": {
        "id": "t2vXleS-eQZ7"
      },
      "source": [
        "for i in range(len(labels)):\r\n",
        "  num = np.zeros(len(labels))\r\n",
        "  num[i] = 1\r\n",
        "  l_to_n[labels[i]] = num"
      ],
      "execution_count": 17,
      "outputs": []
    },
    {
      "cell_type": "code",
      "metadata": {
        "colab": {
          "base_uri": "https://localhost:8080/"
        },
        "id": "klbYHZL9R3yz",
        "outputId": "2d8cab49-1c3f-45af-cefa-480fa3b60140"
      },
      "source": [
        "%%time\r\n",
        "X = []\r\n",
        "Y = []\r\n",
        "for folder in os.listdir(PATH):\r\n",
        "  for subfolder in os.listdir(PATH + folder):\r\n",
        "    for img in os.listdir(PATH + folder + '/' + subfolder):\r\n",
        "      if bool(re.fullmatch(\".*front.*\", img)):\r\n",
        "          X.append(resize(tf.image.convert_image_dtype(tf.image.decode_jpeg(\r\n",
        "              tf.io.read_file(PATH + folder + '/' + subfolder + '/' + img)), tf.float32), (224, 224, 3),\r\n",
        "                       anti_aliasing=True))\r\n",
        "          Y.append(l_to_n[folder])\r\n",
        "          break"
      ],
      "execution_count": 23,
      "outputs": [
        {
          "output_type": "stream",
          "text": [
            "CPU times: user 1min 46s, sys: 2min 22s, total: 4min 9s\n",
            "Wall time: 2min 8s\n"
          ],
          "name": "stdout"
        }
      ]
    },
    {
      "cell_type": "code",
      "metadata": {
        "id": "ixFGmtB_frFa"
      },
      "source": [
        "%load_ext tensorboard"
      ],
      "execution_count": 102,
      "outputs": []
    },
    {
      "cell_type": "code",
      "metadata": {
        "id": "HEQSTG1Mx1EF"
      },
      "source": [
        "  logdir = os.path.join(\"logs\", datetime.datetime.now().strftime(\"%Y%m%d-%H%M%S\"))\r\n",
        "  tensorboard_callback = tf.keras.callbacks.TensorBoard(logdir, histogram_freq=1)"
      ],
      "execution_count": 111,
      "outputs": []
    },
    {
      "cell_type": "code",
      "metadata": {
        "id": "4Nw73H3CN9UB"
      },
      "source": [
        "num_classes = 14"
      ],
      "execution_count": 28,
      "outputs": []
    },
    {
      "cell_type": "code",
      "metadata": {
        "id": "bOqGm-DyMT9u"
      },
      "source": [
        "model = tf.keras.Sequential([\r\n",
        "    hub.KerasLayer(\"https://tfhub.dev/google/imagenet/mobilenet_v2_130_224/feature_vector/4\",\r\n",
        "                   trainable=True),  # Can be True, see below.\r\n",
        "    # tf.keras.layers.Dense(1664, activation='relu'),\r\n",
        "    # tf.keras.layers.Dense(1664, activation='relu'),\r\n",
        "    tf.keras.layers.Dense(num_classes, activation='softmax')\r\n",
        "])\r\n",
        "model.build([None, 224, 224, 3])  # Batch input shape."
      ],
      "execution_count": 114,
      "outputs": []
    },
    {
      "cell_type": "code",
      "metadata": {
        "id": "oXuTqXBdoOO1"
      },
      "source": [
        "del model"
      ],
      "execution_count": null,
      "outputs": []
    },
    {
      "cell_type": "code",
      "metadata": {
        "id": "poE5jFIEXTvN"
      },
      "source": [
        "X_train, X_test, Y_train, Y_test = train_test_split(X, Y, test_size=0.1)"
      ],
      "execution_count": 30,
      "outputs": []
    },
    {
      "cell_type": "code",
      "metadata": {
        "id": "EjYNHqz_Zoqs"
      },
      "source": [
        "del X\r\n",
        "del Y"
      ],
      "execution_count": 31,
      "outputs": []
    },
    {
      "cell_type": "code",
      "metadata": {
        "id": "HOr9lws8athl"
      },
      "source": [
        ""
      ],
      "execution_count": null,
      "outputs": []
    },
    {
      "cell_type": "code",
      "metadata": {
        "id": "2shTq2XviDZe"
      },
      "source": [
        "X_train = np.array(X_train)"
      ],
      "execution_count": 42,
      "outputs": []
    },
    {
      "cell_type": "code",
      "metadata": {
        "id": "4kN8_np9iJVu"
      },
      "source": [
        "Y_train = np.array(Y_train)"
      ],
      "execution_count": 43,
      "outputs": []
    },
    {
      "cell_type": "code",
      "metadata": {
        "id": "Lzu8G1u-bQWZ"
      },
      "source": [
        "# opt = tf.keras.optimizers.Adam(learning_rate=0.0001)\r\n",
        "model.compile(optimizer='adam', loss='binary_crossentropy')"
      ],
      "execution_count": 118,
      "outputs": []
    },
    {
      "cell_type": "code",
      "metadata": {
        "id": "aCxZNRFctcgg"
      },
      "source": [
        "N_EPOCHS = 100"
      ],
      "execution_count": 119,
      "outputs": []
    },
    {
      "cell_type": "code",
      "metadata": {
        "colab": {
          "base_uri": "https://localhost:8080/"
        },
        "id": "nO3rK7cQgprY",
        "outputId": "0367a4dc-1ec5-46b5-b86e-52df9c0b5bd8"
      },
      "source": [
        "summary = model.fit(X_train, Y_train,\r\n",
        "                    batch_size=35,\r\n",
        "                    epochs=N_EPOCHS, \r\n",
        "                    validation_data=(X_test, Y_test), \r\n",
        "                    callbacks=[tensorboard_callback])"
      ],
      "execution_count": null,
      "outputs": [
        {
          "output_type": "stream",
          "text": [
            "Epoch 1/100\n",
            "181/181 [==============================] - 67s 299ms/step - loss: 0.2895 - val_loss: 0.2956\n",
            "Epoch 2/100\n",
            "181/181 [==============================] - 54s 298ms/step - loss: 0.2110 - val_loss: 0.3154\n",
            "Epoch 3/100\n",
            "181/181 [==============================] - 55s 301ms/step - loss: 0.1918 - val_loss: 0.2267\n",
            "Epoch 4/100\n",
            "181/181 [==============================] - 55s 304ms/step - loss: 0.1724 - val_loss: 0.2446\n",
            "Epoch 5/100\n",
            "181/181 [==============================] - 54s 300ms/step - loss: 0.1617 - val_loss: 0.2295\n",
            "Epoch 6/100\n",
            "181/181 [==============================] - 54s 299ms/step - loss: 0.1503 - val_loss: 0.2205\n",
            "Epoch 7/100\n",
            "181/181 [==============================] - 55s 303ms/step - loss: 0.1435 - val_loss: 0.2602\n",
            "Epoch 8/100\n",
            "181/181 [==============================] - 57s 314ms/step - loss: 0.1372 - val_loss: 0.2156\n",
            "Epoch 9/100\n",
            "181/181 [==============================] - 57s 314ms/step - loss: 0.1291 - val_loss: 0.2320\n",
            "Epoch 10/100\n",
            "181/181 [==============================] - 58s 319ms/step - loss: 0.1237 - val_loss: 0.2642\n",
            "Epoch 11/100\n",
            "181/181 [==============================] - 58s 319ms/step - loss: 0.1221 - val_loss: 0.2806\n",
            "Epoch 12/100\n",
            "181/181 [==============================] - 55s 302ms/step - loss: 0.1161 - val_loss: 0.2452\n",
            "Epoch 13/100\n",
            "181/181 [==============================] - 54s 300ms/step - loss: 0.1121 - val_loss: 0.2270\n",
            "Epoch 14/100\n",
            "181/181 [==============================] - 55s 303ms/step - loss: 0.1116 - val_loss: 0.2623\n",
            "Epoch 15/100\n",
            "181/181 [==============================] - 55s 304ms/step - loss: 0.1077 - val_loss: 0.2825\n",
            "Epoch 16/100\n",
            "181/181 [==============================] - 56s 310ms/step - loss: 0.1015 - val_loss: 0.2605\n",
            "Epoch 17/100\n",
            "181/181 [==============================] - 55s 303ms/step - loss: 0.1058 - val_loss: 0.2711\n",
            "Epoch 18/100\n",
            "181/181 [==============================] - 55s 306ms/step - loss: 0.1049 - val_loss: 0.2577\n",
            "Epoch 19/100\n",
            "181/181 [==============================] - 56s 310ms/step - loss: 0.0999 - val_loss: 0.2611\n",
            "Epoch 20/100\n",
            "181/181 [==============================] - 55s 304ms/step - loss: 0.1003 - val_loss: 0.2589\n",
            "Epoch 21/100\n",
            "181/181 [==============================] - 56s 310ms/step - loss: 0.0979 - val_loss: 0.2536\n",
            "Epoch 22/100\n",
            "181/181 [==============================] - 56s 308ms/step - loss: 0.0990 - val_loss: 0.2671\n",
            "Epoch 23/100\n",
            "181/181 [==============================] - 54s 299ms/step - loss: 0.0947 - val_loss: 0.3290\n",
            "Epoch 24/100\n",
            "181/181 [==============================] - 54s 298ms/step - loss: 0.0982 - val_loss: 0.3183\n",
            "Epoch 25/100\n",
            "181/181 [==============================] - 54s 300ms/step - loss: 0.0949 - val_loss: 0.2726\n",
            "Epoch 26/100\n",
            "181/181 [==============================] - 54s 297ms/step - loss: 0.0954 - val_loss: 0.2846\n",
            "Epoch 27/100\n",
            "181/181 [==============================] - 54s 299ms/step - loss: 0.0938 - val_loss: 0.3564\n",
            "Epoch 28/100\n",
            "181/181 [==============================] - 54s 298ms/step - loss: 0.0993 - val_loss: 0.2746\n",
            "Epoch 29/100\n",
            "181/181 [==============================] - 54s 298ms/step - loss: 0.0925 - val_loss: 0.2420\n",
            "Epoch 30/100\n",
            "181/181 [==============================] - 55s 304ms/step - loss: 0.0915 - val_loss: 0.2681\n",
            "Epoch 31/100\n",
            "181/181 [==============================] - 54s 299ms/step - loss: 0.0861 - val_loss: 0.4404\n",
            "Epoch 32/100\n",
            "181/181 [==============================] - 55s 303ms/step - loss: 0.0931 - val_loss: 0.2739\n",
            "Epoch 33/100\n",
            "181/181 [==============================] - 55s 306ms/step - loss: 0.0912 - val_loss: 0.3721\n",
            "Epoch 34/100\n",
            "181/181 [==============================] - 55s 303ms/step - loss: 0.0890 - val_loss: 0.3037\n",
            "Epoch 35/100\n",
            "181/181 [==============================] - 54s 300ms/step - loss: 0.0858 - val_loss: 0.3090\n",
            "Epoch 36/100\n",
            "181/181 [==============================] - 55s 303ms/step - loss: 0.0871 - val_loss: 0.3038\n",
            "Epoch 37/100\n",
            " 39/181 [=====>........................] - ETA: 43s - loss: 0.0869"
          ],
          "name": "stdout"
        }
      ]
    },
    {
      "cell_type": "code",
      "metadata": {
        "id": "XPGJis8ByWmQ"
      },
      "source": [
        "%tensorboard --logdir logs"
      ],
      "execution_count": null,
      "outputs": []
    },
    {
      "cell_type": "code",
      "metadata": {
        "colab": {
          "base_uri": "https://localhost:8080/",
          "height": 283
        },
        "id": "pR67gcdiini_",
        "outputId": "23e31de0-e19e-4a5e-835d-b0c1792ce3cf"
      },
      "source": [
        "plt.plot(summary.history['loss'])"
      ],
      "execution_count": 95,
      "outputs": [
        {
          "output_type": "execute_result",
          "data": {
            "text/plain": [
              "[<matplotlib.lines.Line2D at 0x7f59dd3006d8>]"
            ]
          },
          "metadata": {
            "tags": []
          },
          "execution_count": 95
        },
        {
          "output_type": "display_data",
          "data": {
            "image/png": "[encoded data removed]",
            "text/plain": [
              "<Figure size 432x288 with 1 Axes>"
            ]
          },
          "metadata": {
            "tags": [],
            "needs_background": "light"
          }
        }
      ]
    },
    {
      "cell_type": "code",
      "metadata": {
        "id": "QrOHi1_OjiyQ"
      },
      "source": [
        "X_test = np.array(X_test)"
      ],
      "execution_count": 51,
      "outputs": []
    },
    {
      "cell_type": "code",
      "metadata": {
        "id": "Z-lZ5RdqmGKl"
      },
      "source": [
        "Y_test = np.array(Y_test)"
      ],
      "execution_count": 66,
      "outputs": []
    },
    {
      "cell_type": "code",
      "metadata": {
        "id": "xcCTlpppjcDI"
      },
      "source": [
        "del Y_pred\r\n",
        "Y_pred = model.predict(X_test)"
      ],
      "execution_count": 96,
      "outputs": []
    },
    {
      "cell_type": "code",
      "metadata": {
        "colab": {
          "base_uri": "https://localhost:8080/"
        },
        "id": "zdLQMFWzjy6d",
        "outputId": "68342bcc-00f9-46e4-d51b-09bf59ebe670"
      },
      "source": [
        "sklearn.metrics.f1_score(Y_test.argmax(axis=1), Y_pred.argmax(axis=1), average='macro')"
      ],
      "execution_count": 97,
      "outputs": [
        {
          "output_type": "execute_result",
          "data": {
            "text/plain": [
              "0.5152046641873149"
            ]
          },
          "metadata": {
            "tags": []
          },
          "execution_count": 97
        }
      ]
    },
    {
      "cell_type": "code",
      "metadata": {
        "colab": {
          "base_uri": "https://localhost:8080/"
        },
        "id": "qRgIDm1qn3hC",
        "outputId": "b9a77b59-4811-46d8-96bf-da3df9b4298d"
      },
      "source": [
        "model.summary()"
      ],
      "execution_count": 80,
      "outputs": [
        {
          "output_type": "stream",
          "text": [
            "Model: \"sequential\"\n",
            "_________________________________________________________________\n",
            "Layer (type)                 Output Shape              Param #   \n",
            "=================================================================\n",
            "keras_layer (KerasLayer)     (None, 1664)              3766048   \n",
            "_________________________________________________________________\n",
            "dense (Dense)                (None, 14)                23310     \n",
            "=================================================================\n",
            "Total params: 3,789,358\n",
            "Trainable params: 23,310\n",
            "Non-trainable params: 3,766,048\n",
            "_________________________________________________________________\n"
          ],
          "name": "stdout"
        }
      ]
    }
  ]
}